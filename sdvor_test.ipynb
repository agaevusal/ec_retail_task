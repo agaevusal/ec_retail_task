{
  "nbformat": 4,
  "nbformat_minor": 0,
  "metadata": {
    "colab": {
      "name": "sdvor_test.ipynb",
      "provenance": [],
      "collapsed_sections": [],
      "mount_file_id": "1AGq-3Bg4g80eM4p5m9M1IIQrdeFjFzn6",
      "authorship_tag": "ABX9TyPN7syAdxNkMh/mtTFg8B+o",
      "include_colab_link": true
    },
    "kernelspec": {
      "name": "python3",
      "display_name": "Python 3"
    },
    "language_info": {
      "name": "python"
    }
  },
  "cells": [
    {
      "cell_type": "markdown",
      "metadata": {
        "id": "view-in-github",
        "colab_type": "text"
      },
      "source": [
        "<a href=\"https://colab.research.google.com/github/agaevusal/ec_retail_task/blob/main/sdvor_test.ipynb\" target=\"_parent\"><img src=\"https://colab.research.google.com/assets/colab-badge.svg\" alt=\"Open In Colab\"/></a>"
      ]
    },
    {
      "cell_type": "code",
      "metadata": {
        "id": "1Jnx6GRUhc7n"
      },
      "source": [
        "from google.colab import drive\n",
        "import pandas as pd\n",
        "import numpy as np\n",
        "import math as m"
      ],
      "execution_count": 55,
      "outputs": []
    },
    {
      "cell_type": "code",
      "metadata": {
        "id": "EEzWhlIIrnfY",
        "colab": {
          "base_uri": "https://localhost:8080/"
        },
        "outputId": "28452ddb-cea2-4a93-e62d-e9300c596ca4"
      },
      "source": [
        "drive.mount('/content/drive')"
      ],
      "execution_count": 56,
      "outputs": [
        {
          "output_type": "stream",
          "name": "stdout",
          "text": [
            "Drive already mounted at /content/drive; to attempt to forcibly remount, call drive.mount(\"/content/drive\", force_remount=True).\n"
          ]
        }
      ]
    },
    {
      "cell_type": "code",
      "metadata": {
        "id": "ipunH_okrVzP"
      },
      "source": [
        "copied_path = '/content/drive/MyDrive/Colab_notebooks/datasets_for_ml/test_orders_info.csv'"
      ],
      "execution_count": 57,
      "outputs": []
    },
    {
      "cell_type": "code",
      "metadata": {
        "id": "q2c8IG-_uG1f"
      },
      "source": [
        "\n",
        "data = pd.read_csv(copied_path, sep = ';')"
      ],
      "execution_count": 58,
      "outputs": []
    },
    {
      "cell_type": "code",
      "metadata": {
        "id": "qpq1XPYWuKBX",
        "colab": {
          "base_uri": "https://localhost:8080/",
          "height": 203
        },
        "outputId": "c74c9ac6-9d5b-483c-8baa-d87b004dbfda"
      },
      "source": [
        "data.head()"
      ],
      "execution_count": 59,
      "outputs": [
        {
          "output_type": "execute_result",
          "data": {
            "text/html": [
              "<div>\n",
              "<style scoped>\n",
              "    .dataframe tbody tr th:only-of-type {\n",
              "        vertical-align: middle;\n",
              "    }\n",
              "\n",
              "    .dataframe tbody tr th {\n",
              "        vertical-align: top;\n",
              "    }\n",
              "\n",
              "    .dataframe thead th {\n",
              "        text-align: right;\n",
              "    }\n",
              "</style>\n",
              "<table border=\"1\" class=\"dataframe\">\n",
              "  <thead>\n",
              "    <tr style=\"text-align: right;\">\n",
              "      <th></th>\n",
              "      <th>order_date</th>\n",
              "      <th>org</th>\n",
              "      <th>order_id</th>\n",
              "      <th>material</th>\n",
              "      <th>inv_qty</th>\n",
              "      <th>rev</th>\n",
              "    </tr>\n",
              "  </thead>\n",
              "  <tbody>\n",
              "    <tr>\n",
              "      <th>0</th>\n",
              "      <td>20190801</td>\n",
              "      <td>1000</td>\n",
              "      <td>1009650752</td>\n",
              "      <td>3300030000</td>\n",
              "      <td>720.0</td>\n",
              "      <td>28080.00</td>\n",
              "    </tr>\n",
              "    <tr>\n",
              "      <th>1</th>\n",
              "      <td>20190801</td>\n",
              "      <td>1000</td>\n",
              "      <td>1009650752</td>\n",
              "      <td>7200859000</td>\n",
              "      <td>1.0</td>\n",
              "      <td>5037.00</td>\n",
              "    </tr>\n",
              "    <tr>\n",
              "      <th>2</th>\n",
              "      <td>20190801</td>\n",
              "      <td>1000</td>\n",
              "      <td>1009862550</td>\n",
              "      <td>7200859000</td>\n",
              "      <td>0.0</td>\n",
              "      <td>-2000.00</td>\n",
              "    </tr>\n",
              "    <tr>\n",
              "      <th>3</th>\n",
              "      <td>20190801</td>\n",
              "      <td>1000</td>\n",
              "      <td>1009924088</td>\n",
              "      <td>1500226000</td>\n",
              "      <td>864.0</td>\n",
              "      <td>165507.84</td>\n",
              "    </tr>\n",
              "    <tr>\n",
              "      <th>4</th>\n",
              "      <td>20190801</td>\n",
              "      <td>1000</td>\n",
              "      <td>1009924088</td>\n",
              "      <td>7200859000</td>\n",
              "      <td>2.0</td>\n",
              "      <td>24000.00</td>\n",
              "    </tr>\n",
              "  </tbody>\n",
              "</table>\n",
              "</div>"
            ],
            "text/plain": [
              "   order_date   org    order_id    material  inv_qty        rev\n",
              "0    20190801  1000  1009650752  3300030000    720.0   28080.00\n",
              "1    20190801  1000  1009650752  7200859000      1.0    5037.00\n",
              "2    20190801  1000  1009862550  7200859000      0.0   -2000.00\n",
              "3    20190801  1000  1009924088  1500226000    864.0  165507.84\n",
              "4    20190801  1000  1009924088  7200859000      2.0   24000.00"
            ]
          },
          "metadata": {},
          "execution_count": 59
        }
      ]
    },
    {
      "cell_type": "code",
      "metadata": {
        "colab": {
          "base_uri": "https://localhost:8080/"
        },
        "id": "uvXr3TZ7W9Id",
        "outputId": "3e34cd72-6c72-4ed0-b8b2-e78774ce8632"
      },
      "source": [
        "data.shape"
      ],
      "execution_count": 60,
      "outputs": [
        {
          "output_type": "execute_result",
          "data": {
            "text/plain": [
              "(6051891, 6)"
            ]
          },
          "metadata": {},
          "execution_count": 60
        }
      ]
    },
    {
      "cell_type": "code",
      "metadata": {
        "colab": {
          "base_uri": "https://localhost:8080/"
        },
        "id": "KWSKgRyqW-xU",
        "outputId": "a0fd02cd-3f55-4b12-8c21-ae462f23e1d5"
      },
      "source": [
        "data.columns"
      ],
      "execution_count": 61,
      "outputs": [
        {
          "output_type": "execute_result",
          "data": {
            "text/plain": [
              "Index(['order_date', 'org', 'order_id', 'material', 'inv_qty', 'rev'], dtype='object')"
            ]
          },
          "metadata": {},
          "execution_count": 61
        }
      ]
    },
    {
      "cell_type": "code",
      "metadata": {
        "id": "kP6ooqyGW-3T"
      },
      "source": [
        "data['order_date'] = pd.to_datetime(data.order_date.astype(str), format='%Y%m%d')"
      ],
      "execution_count": 62,
      "outputs": []
    },
    {
      "cell_type": "code",
      "metadata": {
        "colab": {
          "base_uri": "https://localhost:8080/"
        },
        "id": "fqtUaB0DW-90",
        "outputId": "c95f107a-3401-4e0b-97a7-106bca8fce47"
      },
      "source": [
        "data.dtypes"
      ],
      "execution_count": 63,
      "outputs": [
        {
          "output_type": "execute_result",
          "data": {
            "text/plain": [
              "order_date    datetime64[ns]\n",
              "org                    int64\n",
              "order_id               int64\n",
              "material               int64\n",
              "inv_qty              float64\n",
              "rev                  float64\n",
              "dtype: object"
            ]
          },
          "metadata": {},
          "execution_count": 63
        }
      ]
    },
    {
      "cell_type": "code",
      "metadata": {
        "colab": {
          "base_uri": "https://localhost:8080/",
          "height": 295
        },
        "id": "A5-X5UW9cm_k",
        "outputId": "e4ec0d66-a3ca-4f9b-a8d7-ae9c1321ddef"
      },
      "source": [
        "data.describe()"
      ],
      "execution_count": 64,
      "outputs": [
        {
          "output_type": "execute_result",
          "data": {
            "text/html": [
              "<div>\n",
              "<style scoped>\n",
              "    .dataframe tbody tr th:only-of-type {\n",
              "        vertical-align: middle;\n",
              "    }\n",
              "\n",
              "    .dataframe tbody tr th {\n",
              "        vertical-align: top;\n",
              "    }\n",
              "\n",
              "    .dataframe thead th {\n",
              "        text-align: right;\n",
              "    }\n",
              "</style>\n",
              "<table border=\"1\" class=\"dataframe\">\n",
              "  <thead>\n",
              "    <tr style=\"text-align: right;\">\n",
              "      <th></th>\n",
              "      <th>org</th>\n",
              "      <th>order_id</th>\n",
              "      <th>material</th>\n",
              "      <th>inv_qty</th>\n",
              "      <th>rev</th>\n",
              "    </tr>\n",
              "  </thead>\n",
              "  <tbody>\n",
              "    <tr>\n",
              "      <th>count</th>\n",
              "      <td>6.051891e+06</td>\n",
              "      <td>6.051891e+06</td>\n",
              "      <td>6.051891e+06</td>\n",
              "      <td>6.051891e+06</td>\n",
              "      <td>6.051891e+06</td>\n",
              "    </tr>\n",
              "    <tr>\n",
              "      <th>mean</th>\n",
              "      <td>1.630195e+03</td>\n",
              "      <td>2.033077e+09</td>\n",
              "      <td>3.463418e+09</td>\n",
              "      <td>7.571628e+00</td>\n",
              "      <td>6.431352e+02</td>\n",
              "    </tr>\n",
              "    <tr>\n",
              "      <th>std</th>\n",
              "      <td>9.706993e+02</td>\n",
              "      <td>1.920339e+07</td>\n",
              "      <td>2.416476e+09</td>\n",
              "      <td>9.771688e+01</td>\n",
              "      <td>3.418305e+03</td>\n",
              "    </tr>\n",
              "    <tr>\n",
              "      <th>min</th>\n",
              "      <td>1.000000e+03</td>\n",
              "      <td>1.008984e+09</td>\n",
              "      <td>2.000000e+04</td>\n",
              "      <td>-6.120000e+03</td>\n",
              "      <td>-2.375172e+05</td>\n",
              "    </tr>\n",
              "    <tr>\n",
              "      <th>25%</th>\n",
              "      <td>1.000000e+03</td>\n",
              "      <td>2.032632e+09</td>\n",
              "      <td>1.000644e+09</td>\n",
              "      <td>1.000000e+00</td>\n",
              "      <td>6.030000e+01</td>\n",
              "    </tr>\n",
              "    <tr>\n",
              "      <th>50%</th>\n",
              "      <td>1.000000e+03</td>\n",
              "      <td>2.033448e+09</td>\n",
              "      <td>3.400913e+09</td>\n",
              "      <td>1.000000e+00</td>\n",
              "      <td>1.500000e+02</td>\n",
              "    </tr>\n",
              "    <tr>\n",
              "      <th>75%</th>\n",
              "      <td>2.000000e+03</td>\n",
              "      <td>2.034244e+09</td>\n",
              "      <td>5.500865e+09</td>\n",
              "      <td>2.000000e+00</td>\n",
              "      <td>3.800000e+02</td>\n",
              "    </tr>\n",
              "    <tr>\n",
              "      <th>max</th>\n",
              "      <td>7.000000e+03</td>\n",
              "      <td>2.035019e+09</td>\n",
              "      <td>9.900999e+09</td>\n",
              "      <td>4.060800e+04</td>\n",
              "      <td>1.508000e+06</td>\n",
              "    </tr>\n",
              "  </tbody>\n",
              "</table>\n",
              "</div>"
            ],
            "text/plain": [
              "                org      order_id      material       inv_qty           rev\n",
              "count  6.051891e+06  6.051891e+06  6.051891e+06  6.051891e+06  6.051891e+06\n",
              "mean   1.630195e+03  2.033077e+09  3.463418e+09  7.571628e+00  6.431352e+02\n",
              "std    9.706993e+02  1.920339e+07  2.416476e+09  9.771688e+01  3.418305e+03\n",
              "min    1.000000e+03  1.008984e+09  2.000000e+04 -6.120000e+03 -2.375172e+05\n",
              "25%    1.000000e+03  2.032632e+09  1.000644e+09  1.000000e+00  6.030000e+01\n",
              "50%    1.000000e+03  2.033448e+09  3.400913e+09  1.000000e+00  1.500000e+02\n",
              "75%    2.000000e+03  2.034244e+09  5.500865e+09  2.000000e+00  3.800000e+02\n",
              "max    7.000000e+03  2.035019e+09  9.900999e+09  4.060800e+04  1.508000e+06"
            ]
          },
          "metadata": {},
          "execution_count": 64
        }
      ]
    },
    {
      "cell_type": "code",
      "metadata": {
        "colab": {
          "base_uri": "https://localhost:8080/"
        },
        "id": "wMYlZOBcd8ii",
        "outputId": "3d616088-290c-4d28-d3ce-fc0c235af753"
      },
      "source": [
        "data.isnull().sum()"
      ],
      "execution_count": 65,
      "outputs": [
        {
          "output_type": "execute_result",
          "data": {
            "text/plain": [
              "order_date    0\n",
              "org           0\n",
              "order_id      0\n",
              "material      0\n",
              "inv_qty       0\n",
              "rev           0\n",
              "dtype: int64"
            ]
          },
          "metadata": {},
          "execution_count": 65
        }
      ]
    },
    {
      "cell_type": "code",
      "metadata": {
        "id": "icg6xMGBeAMD"
      },
      "source": [
        "data = data.query('rev > 0  & inv_qty > 0')"
      ],
      "execution_count": 66,
      "outputs": []
    },
    {
      "cell_type": "code",
      "metadata": {
        "colab": {
          "base_uri": "https://localhost:8080/"
        },
        "id": "aOXQJMFUwWmK",
        "outputId": "9a402712-c00b-4032-e07d-620b6b59c9a0"
      },
      "source": [
        "data.shape"
      ],
      "execution_count": 67,
      "outputs": [
        {
          "output_type": "execute_result",
          "data": {
            "text/plain": [
              "(6032378, 6)"
            ]
          },
          "metadata": {},
          "execution_count": 67
        }
      ]
    },
    {
      "cell_type": "code",
      "metadata": {
        "colab": {
          "base_uri": "https://localhost:8080/",
          "height": 295
        },
        "id": "8VFXU2LcygwQ",
        "outputId": "d1dde2ba-4822-4bcc-b859-049f0be91fa5"
      },
      "source": [
        "data.describe()"
      ],
      "execution_count": 68,
      "outputs": [
        {
          "output_type": "execute_result",
          "data": {
            "text/html": [
              "<div>\n",
              "<style scoped>\n",
              "    .dataframe tbody tr th:only-of-type {\n",
              "        vertical-align: middle;\n",
              "    }\n",
              "\n",
              "    .dataframe tbody tr th {\n",
              "        vertical-align: top;\n",
              "    }\n",
              "\n",
              "    .dataframe thead th {\n",
              "        text-align: right;\n",
              "    }\n",
              "</style>\n",
              "<table border=\"1\" class=\"dataframe\">\n",
              "  <thead>\n",
              "    <tr style=\"text-align: right;\">\n",
              "      <th></th>\n",
              "      <th>org</th>\n",
              "      <th>order_id</th>\n",
              "      <th>material</th>\n",
              "      <th>inv_qty</th>\n",
              "      <th>rev</th>\n",
              "    </tr>\n",
              "  </thead>\n",
              "  <tbody>\n",
              "    <tr>\n",
              "      <th>count</th>\n",
              "      <td>6.032378e+06</td>\n",
              "      <td>6.032378e+06</td>\n",
              "      <td>6.032378e+06</td>\n",
              "      <td>6.032378e+06</td>\n",
              "      <td>6.032378e+06</td>\n",
              "    </tr>\n",
              "    <tr>\n",
              "      <th>mean</th>\n",
              "      <td>1.626711e+03</td>\n",
              "      <td>2.033129e+09</td>\n",
              "      <td>3.456216e+09</td>\n",
              "      <td>7.587956e+00</td>\n",
              "      <td>6.454515e+02</td>\n",
              "    </tr>\n",
              "    <tr>\n",
              "      <th>std</th>\n",
              "      <td>9.639099e+02</td>\n",
              "      <td>1.779196e+07</td>\n",
              "      <td>2.413699e+09</td>\n",
              "      <td>9.782478e+01</td>\n",
              "      <td>3.420193e+03</td>\n",
              "    </tr>\n",
              "    <tr>\n",
              "      <th>min</th>\n",
              "      <td>1.000000e+03</td>\n",
              "      <td>1.008984e+09</td>\n",
              "      <td>2.000000e+04</td>\n",
              "      <td>1.000000e-03</td>\n",
              "      <td>1.000000e-02</td>\n",
              "    </tr>\n",
              "    <tr>\n",
              "      <th>25%</th>\n",
              "      <td>1.000000e+03</td>\n",
              "      <td>2.032633e+09</td>\n",
              "      <td>1.000533e+09</td>\n",
              "      <td>1.000000e+00</td>\n",
              "      <td>6.120000e+01</td>\n",
              "    </tr>\n",
              "    <tr>\n",
              "      <th>50%</th>\n",
              "      <td>1.000000e+03</td>\n",
              "      <td>2.033448e+09</td>\n",
              "      <td>3.400913e+09</td>\n",
              "      <td>1.000000e+00</td>\n",
              "      <td>1.500000e+02</td>\n",
              "    </tr>\n",
              "    <tr>\n",
              "      <th>75%</th>\n",
              "      <td>2.000000e+03</td>\n",
              "      <td>2.034244e+09</td>\n",
              "      <td>5.500769e+09</td>\n",
              "      <td>2.000000e+00</td>\n",
              "      <td>3.825000e+02</td>\n",
              "    </tr>\n",
              "    <tr>\n",
              "      <th>max</th>\n",
              "      <td>7.000000e+03</td>\n",
              "      <td>2.035019e+09</td>\n",
              "      <td>9.900999e+09</td>\n",
              "      <td>4.060800e+04</td>\n",
              "      <td>1.508000e+06</td>\n",
              "    </tr>\n",
              "  </tbody>\n",
              "</table>\n",
              "</div>"
            ],
            "text/plain": [
              "                org      order_id      material       inv_qty           rev\n",
              "count  6.032378e+06  6.032378e+06  6.032378e+06  6.032378e+06  6.032378e+06\n",
              "mean   1.626711e+03  2.033129e+09  3.456216e+09  7.587956e+00  6.454515e+02\n",
              "std    9.639099e+02  1.779196e+07  2.413699e+09  9.782478e+01  3.420193e+03\n",
              "min    1.000000e+03  1.008984e+09  2.000000e+04  1.000000e-03  1.000000e-02\n",
              "25%    1.000000e+03  2.032633e+09  1.000533e+09  1.000000e+00  6.120000e+01\n",
              "50%    1.000000e+03  2.033448e+09  3.400913e+09  1.000000e+00  1.500000e+02\n",
              "75%    2.000000e+03  2.034244e+09  5.500769e+09  2.000000e+00  3.825000e+02\n",
              "max    7.000000e+03  2.035019e+09  9.900999e+09  4.060800e+04  1.508000e+06"
            ]
          },
          "metadata": {},
          "execution_count": 68
        }
      ]
    },
    {
      "cell_type": "code",
      "metadata": {
        "colab": {
          "base_uri": "https://localhost:8080/"
        },
        "id": "w8E2LBuoyuSw",
        "outputId": "7662067d-ca55-41e8-988e-843e640860d5"
      },
      "source": [
        "data.org.unique()"
      ],
      "execution_count": 69,
      "outputs": [
        {
          "output_type": "execute_result",
          "data": {
            "text/plain": [
              "array([1000, 2000, 3000, 4001, 7000])"
            ]
          },
          "metadata": {},
          "execution_count": 69
        }
      ]
    },
    {
      "cell_type": "code",
      "metadata": {
        "colab": {
          "base_uri": "https://localhost:8080/",
          "height": 203
        },
        "id": "zJt8utm-zBqA",
        "outputId": "20b39971-a30d-49b0-f27b-a8cd1d107fa4"
      },
      "source": [
        "data.head()"
      ],
      "execution_count": 70,
      "outputs": [
        {
          "output_type": "execute_result",
          "data": {
            "text/html": [
              "<div>\n",
              "<style scoped>\n",
              "    .dataframe tbody tr th:only-of-type {\n",
              "        vertical-align: middle;\n",
              "    }\n",
              "\n",
              "    .dataframe tbody tr th {\n",
              "        vertical-align: top;\n",
              "    }\n",
              "\n",
              "    .dataframe thead th {\n",
              "        text-align: right;\n",
              "    }\n",
              "</style>\n",
              "<table border=\"1\" class=\"dataframe\">\n",
              "  <thead>\n",
              "    <tr style=\"text-align: right;\">\n",
              "      <th></th>\n",
              "      <th>order_date</th>\n",
              "      <th>org</th>\n",
              "      <th>order_id</th>\n",
              "      <th>material</th>\n",
              "      <th>inv_qty</th>\n",
              "      <th>rev</th>\n",
              "    </tr>\n",
              "  </thead>\n",
              "  <tbody>\n",
              "    <tr>\n",
              "      <th>0</th>\n",
              "      <td>2019-08-01</td>\n",
              "      <td>1000</td>\n",
              "      <td>1009650752</td>\n",
              "      <td>3300030000</td>\n",
              "      <td>720.0</td>\n",
              "      <td>28080.00</td>\n",
              "    </tr>\n",
              "    <tr>\n",
              "      <th>1</th>\n",
              "      <td>2019-08-01</td>\n",
              "      <td>1000</td>\n",
              "      <td>1009650752</td>\n",
              "      <td>7200859000</td>\n",
              "      <td>1.0</td>\n",
              "      <td>5037.00</td>\n",
              "    </tr>\n",
              "    <tr>\n",
              "      <th>3</th>\n",
              "      <td>2019-08-01</td>\n",
              "      <td>1000</td>\n",
              "      <td>1009924088</td>\n",
              "      <td>1500226000</td>\n",
              "      <td>864.0</td>\n",
              "      <td>165507.84</td>\n",
              "    </tr>\n",
              "    <tr>\n",
              "      <th>4</th>\n",
              "      <td>2019-08-01</td>\n",
              "      <td>1000</td>\n",
              "      <td>1009924088</td>\n",
              "      <td>7200859000</td>\n",
              "      <td>2.0</td>\n",
              "      <td>24000.00</td>\n",
              "    </tr>\n",
              "    <tr>\n",
              "      <th>5</th>\n",
              "      <td>2019-08-01</td>\n",
              "      <td>1000</td>\n",
              "      <td>1009929088</td>\n",
              "      <td>800129000</td>\n",
              "      <td>312.0</td>\n",
              "      <td>8149.44</td>\n",
              "    </tr>\n",
              "  </tbody>\n",
              "</table>\n",
              "</div>"
            ],
            "text/plain": [
              "  order_date   org    order_id    material  inv_qty        rev\n",
              "0 2019-08-01  1000  1009650752  3300030000    720.0   28080.00\n",
              "1 2019-08-01  1000  1009650752  7200859000      1.0    5037.00\n",
              "3 2019-08-01  1000  1009924088  1500226000    864.0  165507.84\n",
              "4 2019-08-01  1000  1009924088  7200859000      2.0   24000.00\n",
              "5 2019-08-01  1000  1009929088   800129000    312.0    8149.44"
            ]
          },
          "metadata": {},
          "execution_count": 70
        }
      ]
    },
    {
      "cell_type": "code",
      "metadata": {
        "colab": {
          "base_uri": "https://localhost:8080/"
        },
        "id": "pdxJqA9dANLm",
        "outputId": "50fddc9b-7c16-48a3-baac-e617e39eeb1e"
      },
      "source": [
        "data.shape"
      ],
      "execution_count": 71,
      "outputs": [
        {
          "output_type": "execute_result",
          "data": {
            "text/plain": [
              "(6032378, 6)"
            ]
          },
          "metadata": {},
          "execution_count": 71
        }
      ]
    },
    {
      "cell_type": "code",
      "metadata": {
        "id": "S09lobYw01fD"
      },
      "source": [
        "data['inv_qty'] = data['inv_qty'].apply(m.ceil)"
      ],
      "execution_count": 72,
      "outputs": []
    },
    {
      "cell_type": "code",
      "metadata": {
        "id": "LSjhptfg0r8g"
      },
      "source": [
        "data['price'] = data['rev'] / data['inv_qty']"
      ],
      "execution_count": 73,
      "outputs": []
    },
    {
      "cell_type": "code",
      "metadata": {
        "id": "U1GanCo1wsMa"
      },
      "source": [
        "data = data.drop(['rev','inv_qty','order_date'],axis = 1)"
      ],
      "execution_count": 74,
      "outputs": []
    },
    {
      "cell_type": "code",
      "metadata": {
        "colab": {
          "base_uri": "https://localhost:8080/",
          "height": 203
        },
        "id": "gtBzNvG8c1yO",
        "outputId": "51df5267-e193-4e38-c4b7-5ce8ae3856cf"
      },
      "source": [
        "data.head()"
      ],
      "execution_count": 75,
      "outputs": [
        {
          "output_type": "execute_result",
          "data": {
            "text/html": [
              "<div>\n",
              "<style scoped>\n",
              "    .dataframe tbody tr th:only-of-type {\n",
              "        vertical-align: middle;\n",
              "    }\n",
              "\n",
              "    .dataframe tbody tr th {\n",
              "        vertical-align: top;\n",
              "    }\n",
              "\n",
              "    .dataframe thead th {\n",
              "        text-align: right;\n",
              "    }\n",
              "</style>\n",
              "<table border=\"1\" class=\"dataframe\">\n",
              "  <thead>\n",
              "    <tr style=\"text-align: right;\">\n",
              "      <th></th>\n",
              "      <th>org</th>\n",
              "      <th>order_id</th>\n",
              "      <th>material</th>\n",
              "      <th>price</th>\n",
              "    </tr>\n",
              "  </thead>\n",
              "  <tbody>\n",
              "    <tr>\n",
              "      <th>0</th>\n",
              "      <td>1000</td>\n",
              "      <td>1009650752</td>\n",
              "      <td>3300030000</td>\n",
              "      <td>39.00</td>\n",
              "    </tr>\n",
              "    <tr>\n",
              "      <th>1</th>\n",
              "      <td>1000</td>\n",
              "      <td>1009650752</td>\n",
              "      <td>7200859000</td>\n",
              "      <td>5037.00</td>\n",
              "    </tr>\n",
              "    <tr>\n",
              "      <th>3</th>\n",
              "      <td>1000</td>\n",
              "      <td>1009924088</td>\n",
              "      <td>1500226000</td>\n",
              "      <td>191.56</td>\n",
              "    </tr>\n",
              "    <tr>\n",
              "      <th>4</th>\n",
              "      <td>1000</td>\n",
              "      <td>1009924088</td>\n",
              "      <td>7200859000</td>\n",
              "      <td>12000.00</td>\n",
              "    </tr>\n",
              "    <tr>\n",
              "      <th>5</th>\n",
              "      <td>1000</td>\n",
              "      <td>1009929088</td>\n",
              "      <td>800129000</td>\n",
              "      <td>26.12</td>\n",
              "    </tr>\n",
              "  </tbody>\n",
              "</table>\n",
              "</div>"
            ],
            "text/plain": [
              "    org    order_id    material     price\n",
              "0  1000  1009650752  3300030000     39.00\n",
              "1  1000  1009650752  7200859000   5037.00\n",
              "3  1000  1009924088  1500226000    191.56\n",
              "4  1000  1009924088  7200859000  12000.00\n",
              "5  1000  1009929088   800129000     26.12"
            ]
          },
          "metadata": {},
          "execution_count": 75
        }
      ]
    },
    {
      "cell_type": "code",
      "metadata": {
        "colab": {
          "base_uri": "https://localhost:8080/"
        },
        "id": "CrLExqJE_uup",
        "outputId": "7deaa34e-48f7-4315-ecb0-e7c28752e63f"
      },
      "source": [
        "data.shape"
      ],
      "execution_count": 76,
      "outputs": [
        {
          "output_type": "execute_result",
          "data": {
            "text/plain": [
              "(6032378, 4)"
            ]
          },
          "metadata": {},
          "execution_count": 76
        }
      ]
    },
    {
      "cell_type": "code",
      "metadata": {
        "id": "xcKJ0ShLDPgq"
      },
      "source": [
        "anchors = data.rename(columns = {'org':'city','material':'anchor'})\n"
      ],
      "execution_count": 77,
      "outputs": []
    },
    {
      "cell_type": "code",
      "metadata": {
        "colab": {
          "base_uri": "https://localhost:8080/",
          "height": 203
        },
        "id": "LWKLRB-QDXc5",
        "outputId": "9bca5778-8aa4-4f4c-89de-6d568f466d8f"
      },
      "source": [
        "anchors.head()"
      ],
      "execution_count": 78,
      "outputs": [
        {
          "output_type": "execute_result",
          "data": {
            "text/html": [
              "<div>\n",
              "<style scoped>\n",
              "    .dataframe tbody tr th:only-of-type {\n",
              "        vertical-align: middle;\n",
              "    }\n",
              "\n",
              "    .dataframe tbody tr th {\n",
              "        vertical-align: top;\n",
              "    }\n",
              "\n",
              "    .dataframe thead th {\n",
              "        text-align: right;\n",
              "    }\n",
              "</style>\n",
              "<table border=\"1\" class=\"dataframe\">\n",
              "  <thead>\n",
              "    <tr style=\"text-align: right;\">\n",
              "      <th></th>\n",
              "      <th>city</th>\n",
              "      <th>order_id</th>\n",
              "      <th>anchor</th>\n",
              "      <th>price</th>\n",
              "    </tr>\n",
              "  </thead>\n",
              "  <tbody>\n",
              "    <tr>\n",
              "      <th>0</th>\n",
              "      <td>1000</td>\n",
              "      <td>1009650752</td>\n",
              "      <td>3300030000</td>\n",
              "      <td>39.00</td>\n",
              "    </tr>\n",
              "    <tr>\n",
              "      <th>1</th>\n",
              "      <td>1000</td>\n",
              "      <td>1009650752</td>\n",
              "      <td>7200859000</td>\n",
              "      <td>5037.00</td>\n",
              "    </tr>\n",
              "    <tr>\n",
              "      <th>3</th>\n",
              "      <td>1000</td>\n",
              "      <td>1009924088</td>\n",
              "      <td>1500226000</td>\n",
              "      <td>191.56</td>\n",
              "    </tr>\n",
              "    <tr>\n",
              "      <th>4</th>\n",
              "      <td>1000</td>\n",
              "      <td>1009924088</td>\n",
              "      <td>7200859000</td>\n",
              "      <td>12000.00</td>\n",
              "    </tr>\n",
              "    <tr>\n",
              "      <th>5</th>\n",
              "      <td>1000</td>\n",
              "      <td>1009929088</td>\n",
              "      <td>800129000</td>\n",
              "      <td>26.12</td>\n",
              "    </tr>\n",
              "  </tbody>\n",
              "</table>\n",
              "</div>"
            ],
            "text/plain": [
              "   city    order_id      anchor     price\n",
              "0  1000  1009650752  3300030000     39.00\n",
              "1  1000  1009650752  7200859000   5037.00\n",
              "3  1000  1009924088  1500226000    191.56\n",
              "4  1000  1009924088  7200859000  12000.00\n",
              "5  1000  1009929088   800129000     26.12"
            ]
          },
          "metadata": {},
          "execution_count": 78
        }
      ]
    },
    {
      "cell_type": "code",
      "metadata": {
        "id": "TUdQDFAiFsGm"
      },
      "source": [
        "anchors = anchors.sort_values(['order_id','price'], ascending=[True,False], ignore_index=True)\\\n",
        "                                  .groupby(['order_id'])\\\n",
        "                                  .head(1)\\\n",
        "                                  .reset_index(drop=True)"
      ],
      "execution_count": 79,
      "outputs": []
    },
    {
      "cell_type": "code",
      "metadata": {
        "colab": {
          "base_uri": "https://localhost:8080/",
          "height": 417
        },
        "id": "SUMkaNJU_u0H",
        "outputId": "bae2c88f-b3cb-45e8-f539-ff2ba6992a8a"
      },
      "source": [
        "anchors"
      ],
      "execution_count": 80,
      "outputs": [
        {
          "output_type": "execute_result",
          "data": {
            "text/html": [
              "<div>\n",
              "<style scoped>\n",
              "    .dataframe tbody tr th:only-of-type {\n",
              "        vertical-align: middle;\n",
              "    }\n",
              "\n",
              "    .dataframe tbody tr th {\n",
              "        vertical-align: top;\n",
              "    }\n",
              "\n",
              "    .dataframe thead th {\n",
              "        text-align: right;\n",
              "    }\n",
              "</style>\n",
              "<table border=\"1\" class=\"dataframe\">\n",
              "  <thead>\n",
              "    <tr style=\"text-align: right;\">\n",
              "      <th></th>\n",
              "      <th>city</th>\n",
              "      <th>order_id</th>\n",
              "      <th>anchor</th>\n",
              "      <th>price</th>\n",
              "    </tr>\n",
              "  </thead>\n",
              "  <tbody>\n",
              "    <tr>\n",
              "      <th>0</th>\n",
              "      <td>1000</td>\n",
              "      <td>1008984447</td>\n",
              "      <td>800134000</td>\n",
              "      <td>19.20</td>\n",
              "    </tr>\n",
              "    <tr>\n",
              "      <th>1</th>\n",
              "      <td>1000</td>\n",
              "      <td>1008992198</td>\n",
              "      <td>8700605001</td>\n",
              "      <td>25.00</td>\n",
              "    </tr>\n",
              "    <tr>\n",
              "      <th>2</th>\n",
              "      <td>1000</td>\n",
              "      <td>1009641513</td>\n",
              "      <td>7200859000</td>\n",
              "      <td>27000.00</td>\n",
              "    </tr>\n",
              "    <tr>\n",
              "      <th>3</th>\n",
              "      <td>1000</td>\n",
              "      <td>1009650752</td>\n",
              "      <td>7200859000</td>\n",
              "      <td>5037.00</td>\n",
              "    </tr>\n",
              "    <tr>\n",
              "      <th>4</th>\n",
              "      <td>1000</td>\n",
              "      <td>1009678287</td>\n",
              "      <td>7200859000</td>\n",
              "      <td>4550.00</td>\n",
              "    </tr>\n",
              "    <tr>\n",
              "      <th>...</th>\n",
              "      <td>...</td>\n",
              "      <td>...</td>\n",
              "      <td>...</td>\n",
              "      <td>...</td>\n",
              "    </tr>\n",
              "    <tr>\n",
              "      <th>2314502</th>\n",
              "      <td>1000</td>\n",
              "      <td>2035018895</td>\n",
              "      <td>2700760001</td>\n",
              "      <td>447.00</td>\n",
              "    </tr>\n",
              "    <tr>\n",
              "      <th>2314503</th>\n",
              "      <td>2000</td>\n",
              "      <td>2035018902</td>\n",
              "      <td>5500575000</td>\n",
              "      <td>314.16</td>\n",
              "    </tr>\n",
              "    <tr>\n",
              "      <th>2314504</th>\n",
              "      <td>1000</td>\n",
              "      <td>2035018904</td>\n",
              "      <td>1700973003</td>\n",
              "      <td>250.00</td>\n",
              "    </tr>\n",
              "    <tr>\n",
              "      <th>2314505</th>\n",
              "      <td>1000</td>\n",
              "      <td>2035018952</td>\n",
              "      <td>1300268000</td>\n",
              "      <td>443.70</td>\n",
              "    </tr>\n",
              "    <tr>\n",
              "      <th>2314506</th>\n",
              "      <td>2000</td>\n",
              "      <td>2035018963</td>\n",
              "      <td>2100828000</td>\n",
              "      <td>514.98</td>\n",
              "    </tr>\n",
              "  </tbody>\n",
              "</table>\n",
              "<p>2314507 rows × 4 columns</p>\n",
              "</div>"
            ],
            "text/plain": [
              "         city    order_id      anchor     price\n",
              "0        1000  1008984447   800134000     19.20\n",
              "1        1000  1008992198  8700605001     25.00\n",
              "2        1000  1009641513  7200859000  27000.00\n",
              "3        1000  1009650752  7200859000   5037.00\n",
              "4        1000  1009678287  7200859000   4550.00\n",
              "...       ...         ...         ...       ...\n",
              "2314502  1000  2035018895  2700760001    447.00\n",
              "2314503  2000  2035018902  5500575000    314.16\n",
              "2314504  1000  2035018904  1700973003    250.00\n",
              "2314505  1000  2035018952  1300268000    443.70\n",
              "2314506  2000  2035018963  2100828000    514.98\n",
              "\n",
              "[2314507 rows x 4 columns]"
            ]
          },
          "metadata": {},
          "execution_count": 80
        }
      ]
    },
    {
      "cell_type": "code",
      "metadata": {
        "colab": {
          "base_uri": "https://localhost:8080/",
          "height": 80
        },
        "id": "Qgj1Ts0Y8H9-",
        "outputId": "e980d834-0147-4cd0-c6cd-e92c11efaeb1"
      },
      "source": [
        "anchors[anchors.order_id == 1009650752] #chek up"
      ],
      "execution_count": 81,
      "outputs": [
        {
          "output_type": "execute_result",
          "data": {
            "text/html": [
              "<div>\n",
              "<style scoped>\n",
              "    .dataframe tbody tr th:only-of-type {\n",
              "        vertical-align: middle;\n",
              "    }\n",
              "\n",
              "    .dataframe tbody tr th {\n",
              "        vertical-align: top;\n",
              "    }\n",
              "\n",
              "    .dataframe thead th {\n",
              "        text-align: right;\n",
              "    }\n",
              "</style>\n",
              "<table border=\"1\" class=\"dataframe\">\n",
              "  <thead>\n",
              "    <tr style=\"text-align: right;\">\n",
              "      <th></th>\n",
              "      <th>city</th>\n",
              "      <th>order_id</th>\n",
              "      <th>anchor</th>\n",
              "      <th>price</th>\n",
              "    </tr>\n",
              "  </thead>\n",
              "  <tbody>\n",
              "    <tr>\n",
              "      <th>3</th>\n",
              "      <td>1000</td>\n",
              "      <td>1009650752</td>\n",
              "      <td>7200859000</td>\n",
              "      <td>5037.0</td>\n",
              "    </tr>\n",
              "  </tbody>\n",
              "</table>\n",
              "</div>"
            ],
            "text/plain": [
              "   city    order_id      anchor   price\n",
              "3  1000  1009650752  7200859000  5037.0"
            ]
          },
          "metadata": {},
          "execution_count": 81
        }
      ]
    },
    {
      "cell_type": "code",
      "metadata": {
        "colab": {
          "base_uri": "https://localhost:8080/",
          "height": 80
        },
        "id": "CxuAoDMd8IAU",
        "outputId": "d4a9d2d0-8d68-479b-ee51-121504438cb2"
      },
      "source": [
        "anchors[anchors.order_id == 2035018963 ] # chek up"
      ],
      "execution_count": 82,
      "outputs": [
        {
          "output_type": "execute_result",
          "data": {
            "text/html": [
              "<div>\n",
              "<style scoped>\n",
              "    .dataframe tbody tr th:only-of-type {\n",
              "        vertical-align: middle;\n",
              "    }\n",
              "\n",
              "    .dataframe tbody tr th {\n",
              "        vertical-align: top;\n",
              "    }\n",
              "\n",
              "    .dataframe thead th {\n",
              "        text-align: right;\n",
              "    }\n",
              "</style>\n",
              "<table border=\"1\" class=\"dataframe\">\n",
              "  <thead>\n",
              "    <tr style=\"text-align: right;\">\n",
              "      <th></th>\n",
              "      <th>city</th>\n",
              "      <th>order_id</th>\n",
              "      <th>anchor</th>\n",
              "      <th>price</th>\n",
              "    </tr>\n",
              "  </thead>\n",
              "  <tbody>\n",
              "    <tr>\n",
              "      <th>2314506</th>\n",
              "      <td>2000</td>\n",
              "      <td>2035018963</td>\n",
              "      <td>2100828000</td>\n",
              "      <td>514.98</td>\n",
              "    </tr>\n",
              "  </tbody>\n",
              "</table>\n",
              "</div>"
            ],
            "text/plain": [
              "         city    order_id      anchor   price\n",
              "2314506  2000  2035018963  2100828000  514.98"
            ]
          },
          "metadata": {},
          "execution_count": 82
        }
      ]
    },
    {
      "cell_type": "code",
      "metadata": {
        "colab": {
          "base_uri": "https://localhost:8080/",
          "height": 203
        },
        "id": "hOHcEX6jlLp3",
        "outputId": "742af195-96ef-44be-a0cc-5f72abe8ab72"
      },
      "source": [
        "data.head()"
      ],
      "execution_count": 83,
      "outputs": [
        {
          "output_type": "execute_result",
          "data": {
            "text/html": [
              "<div>\n",
              "<style scoped>\n",
              "    .dataframe tbody tr th:only-of-type {\n",
              "        vertical-align: middle;\n",
              "    }\n",
              "\n",
              "    .dataframe tbody tr th {\n",
              "        vertical-align: top;\n",
              "    }\n",
              "\n",
              "    .dataframe thead th {\n",
              "        text-align: right;\n",
              "    }\n",
              "</style>\n",
              "<table border=\"1\" class=\"dataframe\">\n",
              "  <thead>\n",
              "    <tr style=\"text-align: right;\">\n",
              "      <th></th>\n",
              "      <th>org</th>\n",
              "      <th>order_id</th>\n",
              "      <th>material</th>\n",
              "      <th>price</th>\n",
              "    </tr>\n",
              "  </thead>\n",
              "  <tbody>\n",
              "    <tr>\n",
              "      <th>0</th>\n",
              "      <td>1000</td>\n",
              "      <td>1009650752</td>\n",
              "      <td>3300030000</td>\n",
              "      <td>39.00</td>\n",
              "    </tr>\n",
              "    <tr>\n",
              "      <th>1</th>\n",
              "      <td>1000</td>\n",
              "      <td>1009650752</td>\n",
              "      <td>7200859000</td>\n",
              "      <td>5037.00</td>\n",
              "    </tr>\n",
              "    <tr>\n",
              "      <th>3</th>\n",
              "      <td>1000</td>\n",
              "      <td>1009924088</td>\n",
              "      <td>1500226000</td>\n",
              "      <td>191.56</td>\n",
              "    </tr>\n",
              "    <tr>\n",
              "      <th>4</th>\n",
              "      <td>1000</td>\n",
              "      <td>1009924088</td>\n",
              "      <td>7200859000</td>\n",
              "      <td>12000.00</td>\n",
              "    </tr>\n",
              "    <tr>\n",
              "      <th>5</th>\n",
              "      <td>1000</td>\n",
              "      <td>1009929088</td>\n",
              "      <td>800129000</td>\n",
              "      <td>26.12</td>\n",
              "    </tr>\n",
              "  </tbody>\n",
              "</table>\n",
              "</div>"
            ],
            "text/plain": [
              "    org    order_id    material     price\n",
              "0  1000  1009650752  3300030000     39.00\n",
              "1  1000  1009650752  7200859000   5037.00\n",
              "3  1000  1009924088  1500226000    191.56\n",
              "4  1000  1009924088  7200859000  12000.00\n",
              "5  1000  1009929088   800129000     26.12"
            ]
          },
          "metadata": {},
          "execution_count": 83
        }
      ]
    },
    {
      "cell_type": "code",
      "metadata": {
        "id": "HL1q0SXZaBqd"
      },
      "source": [
        "secondaries = data.rename(columns = {'org':'city','material':'secondaries'})"
      ],
      "execution_count": 84,
      "outputs": []
    },
    {
      "cell_type": "code",
      "metadata": {
        "id": "EBqvkVbbaBuH"
      },
      "source": [
        "secondaries = secondaries.sort_values(['order_id','price'], ascending = [True,True]).reset_index(drop = True)                                  \n"
      ],
      "execution_count": 85,
      "outputs": []
    },
    {
      "cell_type": "code",
      "metadata": {
        "colab": {
          "base_uri": "https://localhost:8080/",
          "height": 417
        },
        "id": "PGZQaLRSaBxm",
        "outputId": "3d9306f9-3c2a-43aa-8b03-4aaca73e15ce"
      },
      "source": [
        "secondaries"
      ],
      "execution_count": 86,
      "outputs": [
        {
          "output_type": "execute_result",
          "data": {
            "text/html": [
              "<div>\n",
              "<style scoped>\n",
              "    .dataframe tbody tr th:only-of-type {\n",
              "        vertical-align: middle;\n",
              "    }\n",
              "\n",
              "    .dataframe tbody tr th {\n",
              "        vertical-align: top;\n",
              "    }\n",
              "\n",
              "    .dataframe thead th {\n",
              "        text-align: right;\n",
              "    }\n",
              "</style>\n",
              "<table border=\"1\" class=\"dataframe\">\n",
              "  <thead>\n",
              "    <tr style=\"text-align: right;\">\n",
              "      <th></th>\n",
              "      <th>city</th>\n",
              "      <th>order_id</th>\n",
              "      <th>secondaries</th>\n",
              "      <th>price</th>\n",
              "    </tr>\n",
              "  </thead>\n",
              "  <tbody>\n",
              "    <tr>\n",
              "      <th>0</th>\n",
              "      <td>1000</td>\n",
              "      <td>1008984447</td>\n",
              "      <td>700831000</td>\n",
              "      <td>18.20</td>\n",
              "    </tr>\n",
              "    <tr>\n",
              "      <th>1</th>\n",
              "      <td>1000</td>\n",
              "      <td>1008984447</td>\n",
              "      <td>800134000</td>\n",
              "      <td>19.20</td>\n",
              "    </tr>\n",
              "    <tr>\n",
              "      <th>2</th>\n",
              "      <td>1000</td>\n",
              "      <td>1008992198</td>\n",
              "      <td>8700579001</td>\n",
              "      <td>17.50</td>\n",
              "    </tr>\n",
              "    <tr>\n",
              "      <th>3</th>\n",
              "      <td>1000</td>\n",
              "      <td>1008992198</td>\n",
              "      <td>8700605001</td>\n",
              "      <td>25.00</td>\n",
              "    </tr>\n",
              "    <tr>\n",
              "      <th>4</th>\n",
              "      <td>1000</td>\n",
              "      <td>1009641513</td>\n",
              "      <td>3700017000</td>\n",
              "      <td>98.80</td>\n",
              "    </tr>\n",
              "    <tr>\n",
              "      <th>...</th>\n",
              "      <td>...</td>\n",
              "      <td>...</td>\n",
              "      <td>...</td>\n",
              "      <td>...</td>\n",
              "    </tr>\n",
              "    <tr>\n",
              "      <th>6032373</th>\n",
              "      <td>1000</td>\n",
              "      <td>2035018904</td>\n",
              "      <td>1700973003</td>\n",
              "      <td>250.00</td>\n",
              "    </tr>\n",
              "    <tr>\n",
              "      <th>6032374</th>\n",
              "      <td>1000</td>\n",
              "      <td>2035018952</td>\n",
              "      <td>1300268000</td>\n",
              "      <td>443.70</td>\n",
              "    </tr>\n",
              "    <tr>\n",
              "      <th>6032375</th>\n",
              "      <td>2000</td>\n",
              "      <td>2035018963</td>\n",
              "      <td>900296001</td>\n",
              "      <td>23.14</td>\n",
              "    </tr>\n",
              "    <tr>\n",
              "      <th>6032376</th>\n",
              "      <td>2000</td>\n",
              "      <td>2035018963</td>\n",
              "      <td>900297001</td>\n",
              "      <td>36.49</td>\n",
              "    </tr>\n",
              "    <tr>\n",
              "      <th>6032377</th>\n",
              "      <td>2000</td>\n",
              "      <td>2035018963</td>\n",
              "      <td>2100828000</td>\n",
              "      <td>514.98</td>\n",
              "    </tr>\n",
              "  </tbody>\n",
              "</table>\n",
              "<p>6032378 rows × 4 columns</p>\n",
              "</div>"
            ],
            "text/plain": [
              "         city    order_id  secondaries   price\n",
              "0        1000  1008984447    700831000   18.20\n",
              "1        1000  1008984447    800134000   19.20\n",
              "2        1000  1008992198   8700579001   17.50\n",
              "3        1000  1008992198   8700605001   25.00\n",
              "4        1000  1009641513   3700017000   98.80\n",
              "...       ...         ...          ...     ...\n",
              "6032373  1000  2035018904   1700973003  250.00\n",
              "6032374  1000  2035018952   1300268000  443.70\n",
              "6032375  2000  2035018963    900296001   23.14\n",
              "6032376  2000  2035018963    900297001   36.49\n",
              "6032377  2000  2035018963   2100828000  514.98\n",
              "\n",
              "[6032378 rows x 4 columns]"
            ]
          },
          "metadata": {},
          "execution_count": 86
        }
      ]
    },
    {
      "cell_type": "code",
      "metadata": {
        "colab": {
          "base_uri": "https://localhost:8080/",
          "height": 142
        },
        "id": "jSXPKcDVaBz5",
        "outputId": "4153b927-71cc-4f6c-e7cf-66d877cf9abe"
      },
      "source": [
        "secondaries[secondaries.order_id == 2035018963]"
      ],
      "execution_count": 87,
      "outputs": [
        {
          "output_type": "execute_result",
          "data": {
            "text/html": [
              "<div>\n",
              "<style scoped>\n",
              "    .dataframe tbody tr th:only-of-type {\n",
              "        vertical-align: middle;\n",
              "    }\n",
              "\n",
              "    .dataframe tbody tr th {\n",
              "        vertical-align: top;\n",
              "    }\n",
              "\n",
              "    .dataframe thead th {\n",
              "        text-align: right;\n",
              "    }\n",
              "</style>\n",
              "<table border=\"1\" class=\"dataframe\">\n",
              "  <thead>\n",
              "    <tr style=\"text-align: right;\">\n",
              "      <th></th>\n",
              "      <th>city</th>\n",
              "      <th>order_id</th>\n",
              "      <th>secondaries</th>\n",
              "      <th>price</th>\n",
              "    </tr>\n",
              "  </thead>\n",
              "  <tbody>\n",
              "    <tr>\n",
              "      <th>6032375</th>\n",
              "      <td>2000</td>\n",
              "      <td>2035018963</td>\n",
              "      <td>900296001</td>\n",
              "      <td>23.14</td>\n",
              "    </tr>\n",
              "    <tr>\n",
              "      <th>6032376</th>\n",
              "      <td>2000</td>\n",
              "      <td>2035018963</td>\n",
              "      <td>900297001</td>\n",
              "      <td>36.49</td>\n",
              "    </tr>\n",
              "    <tr>\n",
              "      <th>6032377</th>\n",
              "      <td>2000</td>\n",
              "      <td>2035018963</td>\n",
              "      <td>2100828000</td>\n",
              "      <td>514.98</td>\n",
              "    </tr>\n",
              "  </tbody>\n",
              "</table>\n",
              "</div>"
            ],
            "text/plain": [
              "         city    order_id  secondaries   price\n",
              "6032375  2000  2035018963    900296001   23.14\n",
              "6032376  2000  2035018963    900297001   36.49\n",
              "6032377  2000  2035018963   2100828000  514.98"
            ]
          },
          "metadata": {},
          "execution_count": 87
        }
      ]
    },
    {
      "cell_type": "code",
      "metadata": {
        "colab": {
          "base_uri": "https://localhost:8080/",
          "height": 142
        },
        "id": "WQatVEx-aB3g",
        "outputId": "ea1a14ef-efe9-435e-9727-3528cc2b59c5"
      },
      "source": [
        "data[data.order_id == 2035018963]"
      ],
      "execution_count": 88,
      "outputs": [
        {
          "output_type": "execute_result",
          "data": {
            "text/html": [
              "<div>\n",
              "<style scoped>\n",
              "    .dataframe tbody tr th:only-of-type {\n",
              "        vertical-align: middle;\n",
              "    }\n",
              "\n",
              "    .dataframe tbody tr th {\n",
              "        vertical-align: top;\n",
              "    }\n",
              "\n",
              "    .dataframe thead th {\n",
              "        text-align: right;\n",
              "    }\n",
              "</style>\n",
              "<table border=\"1\" class=\"dataframe\">\n",
              "  <thead>\n",
              "    <tr style=\"text-align: right;\">\n",
              "      <th></th>\n",
              "      <th>org</th>\n",
              "      <th>order_id</th>\n",
              "      <th>material</th>\n",
              "      <th>price</th>\n",
              "    </tr>\n",
              "  </thead>\n",
              "  <tbody>\n",
              "    <tr>\n",
              "      <th>6046184</th>\n",
              "      <td>2000</td>\n",
              "      <td>2035018963</td>\n",
              "      <td>2100828000</td>\n",
              "      <td>514.98</td>\n",
              "    </tr>\n",
              "    <tr>\n",
              "      <th>6046185</th>\n",
              "      <td>2000</td>\n",
              "      <td>2035018963</td>\n",
              "      <td>900296001</td>\n",
              "      <td>23.14</td>\n",
              "    </tr>\n",
              "    <tr>\n",
              "      <th>6046186</th>\n",
              "      <td>2000</td>\n",
              "      <td>2035018963</td>\n",
              "      <td>900297001</td>\n",
              "      <td>36.49</td>\n",
              "    </tr>\n",
              "  </tbody>\n",
              "</table>\n",
              "</div>"
            ],
            "text/plain": [
              "          org    order_id    material   price\n",
              "6046184  2000  2035018963  2100828000  514.98\n",
              "6046185  2000  2035018963   900296001   23.14\n",
              "6046186  2000  2035018963   900297001   36.49"
            ]
          },
          "metadata": {},
          "execution_count": 88
        }
      ]
    },
    {
      "cell_type": "code",
      "metadata": {
        "id": "NWOUs365uIKn"
      },
      "source": [
        "#secondaries = secondaries.groupby('order_id').shift(periods = 1)\\\n",
        "                                   # .dropna()\\\n",
        "                                   # .reset_index(drop = True)"
      ],
      "execution_count": 89,
      "outputs": []
    },
    {
      "cell_type": "code",
      "metadata": {
        "id": "qEdpU2K8dHVW"
      },
      "source": [
        "#secondaries.head()"
      ],
      "execution_count": 90,
      "outputs": []
    },
    {
      "cell_type": "code",
      "metadata": {
        "id": "ZVK41b93uUZ2"
      },
      "source": [
        "shifted_df = secondaries.groupby('order_id').shift(1)\\\n",
        "                            .assign(order_id = secondaries['order_id'])\\\n",
        "                            .dropna()\\\n",
        "                            .reset_index(drop = True)\n"
      ],
      "execution_count": 91,
      "outputs": []
    },
    {
      "cell_type": "code",
      "metadata": {
        "id": "mBAf1qZPuUcF"
      },
      "source": [
        "#shifted_df = shifted_df.assign(order_id = secondaries['order_id'])"
      ],
      "execution_count": 92,
      "outputs": []
    },
    {
      "cell_type": "code",
      "metadata": {
        "id": "y6uqKTUCqYUA"
      },
      "source": [
        "#shifted_df = shifted_df.dropna()"
      ],
      "execution_count": 93,
      "outputs": []
    },
    {
      "cell_type": "code",
      "metadata": {
        "colab": {
          "base_uri": "https://localhost:8080/",
          "height": 203
        },
        "id": "FAGf0tM5rNBg",
        "outputId": "c75964c8-127a-41ee-c8d7-ee6d37816a36"
      },
      "source": [
        "shifted_df.head()"
      ],
      "execution_count": 94,
      "outputs": [
        {
          "output_type": "execute_result",
          "data": {
            "text/html": [
              "<div>\n",
              "<style scoped>\n",
              "    .dataframe tbody tr th:only-of-type {\n",
              "        vertical-align: middle;\n",
              "    }\n",
              "\n",
              "    .dataframe tbody tr th {\n",
              "        vertical-align: top;\n",
              "    }\n",
              "\n",
              "    .dataframe thead th {\n",
              "        text-align: right;\n",
              "    }\n",
              "</style>\n",
              "<table border=\"1\" class=\"dataframe\">\n",
              "  <thead>\n",
              "    <tr style=\"text-align: right;\">\n",
              "      <th></th>\n",
              "      <th>city</th>\n",
              "      <th>secondaries</th>\n",
              "      <th>price</th>\n",
              "      <th>order_id</th>\n",
              "    </tr>\n",
              "  </thead>\n",
              "  <tbody>\n",
              "    <tr>\n",
              "      <th>0</th>\n",
              "      <td>1000.0</td>\n",
              "      <td>7.008310e+08</td>\n",
              "      <td>18.2</td>\n",
              "      <td>1008984447</td>\n",
              "    </tr>\n",
              "    <tr>\n",
              "      <th>1</th>\n",
              "      <td>1000.0</td>\n",
              "      <td>8.700579e+09</td>\n",
              "      <td>17.5</td>\n",
              "      <td>1008992198</td>\n",
              "    </tr>\n",
              "    <tr>\n",
              "      <th>2</th>\n",
              "      <td>1000.0</td>\n",
              "      <td>3.700017e+09</td>\n",
              "      <td>98.8</td>\n",
              "      <td>1009641513</td>\n",
              "    </tr>\n",
              "    <tr>\n",
              "      <th>3</th>\n",
              "      <td>1000.0</td>\n",
              "      <td>3.300030e+09</td>\n",
              "      <td>39.0</td>\n",
              "      <td>1009650752</td>\n",
              "    </tr>\n",
              "    <tr>\n",
              "      <th>4</th>\n",
              "      <td>1000.0</td>\n",
              "      <td>2.100101e+09</td>\n",
              "      <td>4.0</td>\n",
              "      <td>1009678287</td>\n",
              "    </tr>\n",
              "  </tbody>\n",
              "</table>\n",
              "</div>"
            ],
            "text/plain": [
              "     city   secondaries  price    order_id\n",
              "0  1000.0  7.008310e+08   18.2  1008984447\n",
              "1  1000.0  8.700579e+09   17.5  1008992198\n",
              "2  1000.0  3.700017e+09   98.8  1009641513\n",
              "3  1000.0  3.300030e+09   39.0  1009650752\n",
              "4  1000.0  2.100101e+09    4.0  1009678287"
            ]
          },
          "metadata": {},
          "execution_count": 94
        }
      ]
    },
    {
      "cell_type": "code",
      "metadata": {
        "id": "L7iw3bMMr4ZA"
      },
      "source": [
        "shifted_df['city'] = shifted_df['city'].astype(int) "
      ],
      "execution_count": 95,
      "outputs": []
    },
    {
      "cell_type": "code",
      "metadata": {
        "id": "-fHR5uxpr4bY"
      },
      "source": [
        "shifted_df['secondaries'] = shifted_df['secondaries'].astype(int) "
      ],
      "execution_count": 96,
      "outputs": []
    },
    {
      "cell_type": "code",
      "metadata": {
        "colab": {
          "base_uri": "https://localhost:8080/",
          "height": 203
        },
        "id": "XYCroKyrsaei",
        "outputId": "801ca854-e5f5-422a-fd0b-766b7dba9207"
      },
      "source": [
        "shifted_df.head()"
      ],
      "execution_count": 97,
      "outputs": [
        {
          "output_type": "execute_result",
          "data": {
            "text/html": [
              "<div>\n",
              "<style scoped>\n",
              "    .dataframe tbody tr th:only-of-type {\n",
              "        vertical-align: middle;\n",
              "    }\n",
              "\n",
              "    .dataframe tbody tr th {\n",
              "        vertical-align: top;\n",
              "    }\n",
              "\n",
              "    .dataframe thead th {\n",
              "        text-align: right;\n",
              "    }\n",
              "</style>\n",
              "<table border=\"1\" class=\"dataframe\">\n",
              "  <thead>\n",
              "    <tr style=\"text-align: right;\">\n",
              "      <th></th>\n",
              "      <th>city</th>\n",
              "      <th>secondaries</th>\n",
              "      <th>price</th>\n",
              "      <th>order_id</th>\n",
              "    </tr>\n",
              "  </thead>\n",
              "  <tbody>\n",
              "    <tr>\n",
              "      <th>0</th>\n",
              "      <td>1000</td>\n",
              "      <td>700831000</td>\n",
              "      <td>18.2</td>\n",
              "      <td>1008984447</td>\n",
              "    </tr>\n",
              "    <tr>\n",
              "      <th>1</th>\n",
              "      <td>1000</td>\n",
              "      <td>8700579001</td>\n",
              "      <td>17.5</td>\n",
              "      <td>1008992198</td>\n",
              "    </tr>\n",
              "    <tr>\n",
              "      <th>2</th>\n",
              "      <td>1000</td>\n",
              "      <td>3700017000</td>\n",
              "      <td>98.8</td>\n",
              "      <td>1009641513</td>\n",
              "    </tr>\n",
              "    <tr>\n",
              "      <th>3</th>\n",
              "      <td>1000</td>\n",
              "      <td>3300030000</td>\n",
              "      <td>39.0</td>\n",
              "      <td>1009650752</td>\n",
              "    </tr>\n",
              "    <tr>\n",
              "      <th>4</th>\n",
              "      <td>1000</td>\n",
              "      <td>2100101000</td>\n",
              "      <td>4.0</td>\n",
              "      <td>1009678287</td>\n",
              "    </tr>\n",
              "  </tbody>\n",
              "</table>\n",
              "</div>"
            ],
            "text/plain": [
              "   city  secondaries  price    order_id\n",
              "0  1000    700831000   18.2  1008984447\n",
              "1  1000   8700579001   17.5  1008992198\n",
              "2  1000   3700017000   98.8  1009641513\n",
              "3  1000   3300030000   39.0  1009650752\n",
              "4  1000   2100101000    4.0  1009678287"
            ]
          },
          "metadata": {},
          "execution_count": 97
        }
      ]
    },
    {
      "cell_type": "code",
      "metadata": {
        "id": "AjDrfTsKuUeV",
        "colab": {
          "base_uri": "https://localhost:8080/",
          "height": 142
        },
        "outputId": "19bb6315-2d8e-4620-95fd-5a086cbdedf2"
      },
      "source": [
        "secondaries[secondaries.order_id == 2035018904] ##check up"
      ],
      "execution_count": 98,
      "outputs": [
        {
          "output_type": "execute_result",
          "data": {
            "text/html": [
              "<div>\n",
              "<style scoped>\n",
              "    .dataframe tbody tr th:only-of-type {\n",
              "        vertical-align: middle;\n",
              "    }\n",
              "\n",
              "    .dataframe tbody tr th {\n",
              "        vertical-align: top;\n",
              "    }\n",
              "\n",
              "    .dataframe thead th {\n",
              "        text-align: right;\n",
              "    }\n",
              "</style>\n",
              "<table border=\"1\" class=\"dataframe\">\n",
              "  <thead>\n",
              "    <tr style=\"text-align: right;\">\n",
              "      <th></th>\n",
              "      <th>city</th>\n",
              "      <th>order_id</th>\n",
              "      <th>secondaries</th>\n",
              "      <th>price</th>\n",
              "    </tr>\n",
              "  </thead>\n",
              "  <tbody>\n",
              "    <tr>\n",
              "      <th>6032371</th>\n",
              "      <td>1000</td>\n",
              "      <td>2035018904</td>\n",
              "      <td>7500686000</td>\n",
              "      <td>17.1</td>\n",
              "    </tr>\n",
              "    <tr>\n",
              "      <th>6032372</th>\n",
              "      <td>1000</td>\n",
              "      <td>2035018904</td>\n",
              "      <td>7700232000</td>\n",
              "      <td>55.8</td>\n",
              "    </tr>\n",
              "    <tr>\n",
              "      <th>6032373</th>\n",
              "      <td>1000</td>\n",
              "      <td>2035018904</td>\n",
              "      <td>1700973003</td>\n",
              "      <td>250.0</td>\n",
              "    </tr>\n",
              "  </tbody>\n",
              "</table>\n",
              "</div>"
            ],
            "text/plain": [
              "         city    order_id  secondaries  price\n",
              "6032371  1000  2035018904   7500686000   17.1\n",
              "6032372  1000  2035018904   7700232000   55.8\n",
              "6032373  1000  2035018904   1700973003  250.0"
            ]
          },
          "metadata": {},
          "execution_count": 98
        }
      ]
    },
    {
      "cell_type": "code",
      "metadata": {
        "id": "w0IVXoSsuUgd",
        "colab": {
          "base_uri": "https://localhost:8080/",
          "height": 110
        },
        "outputId": "a6be58df-65c8-410f-94e9-f031f4739efa"
      },
      "source": [
        "shifted_df[shifted_df.order_id == 2035018904 ]      #check up"
      ],
      "execution_count": 99,
      "outputs": [
        {
          "output_type": "execute_result",
          "data": {
            "text/html": [
              "<div>\n",
              "<style scoped>\n",
              "    .dataframe tbody tr th:only-of-type {\n",
              "        vertical-align: middle;\n",
              "    }\n",
              "\n",
              "    .dataframe tbody tr th {\n",
              "        vertical-align: top;\n",
              "    }\n",
              "\n",
              "    .dataframe thead th {\n",
              "        text-align: right;\n",
              "    }\n",
              "</style>\n",
              "<table border=\"1\" class=\"dataframe\">\n",
              "  <thead>\n",
              "    <tr style=\"text-align: right;\">\n",
              "      <th></th>\n",
              "      <th>city</th>\n",
              "      <th>secondaries</th>\n",
              "      <th>price</th>\n",
              "      <th>order_id</th>\n",
              "    </tr>\n",
              "  </thead>\n",
              "  <tbody>\n",
              "    <tr>\n",
              "      <th>3717867</th>\n",
              "      <td>1000</td>\n",
              "      <td>7500686000</td>\n",
              "      <td>17.1</td>\n",
              "      <td>2035018904</td>\n",
              "    </tr>\n",
              "    <tr>\n",
              "      <th>3717868</th>\n",
              "      <td>1000</td>\n",
              "      <td>7700232000</td>\n",
              "      <td>55.8</td>\n",
              "      <td>2035018904</td>\n",
              "    </tr>\n",
              "  </tbody>\n",
              "</table>\n",
              "</div>"
            ],
            "text/plain": [
              "         city  secondaries  price    order_id\n",
              "3717867  1000   7500686000   17.1  2035018904\n",
              "3717868  1000   7700232000   55.8  2035018904"
            ]
          },
          "metadata": {},
          "execution_count": 99
        }
      ]
    },
    {
      "cell_type": "code",
      "metadata": {
        "id": "mH1N0S0quUiW"
      },
      "source": [
        "shifted_df = shifted_df[['city', 'order_id', 'secondaries', 'price']]"
      ],
      "execution_count": 100,
      "outputs": []
    },
    {
      "cell_type": "code",
      "metadata": {
        "id": "AXYgxVGzuUkO",
        "colab": {
          "base_uri": "https://localhost:8080/",
          "height": 203
        },
        "outputId": "ffc946ea-055d-48c3-dd03-fc2006b46bea"
      },
      "source": [
        "shifted_df.head()"
      ],
      "execution_count": 101,
      "outputs": [
        {
          "output_type": "execute_result",
          "data": {
            "text/html": [
              "<div>\n",
              "<style scoped>\n",
              "    .dataframe tbody tr th:only-of-type {\n",
              "        vertical-align: middle;\n",
              "    }\n",
              "\n",
              "    .dataframe tbody tr th {\n",
              "        vertical-align: top;\n",
              "    }\n",
              "\n",
              "    .dataframe thead th {\n",
              "        text-align: right;\n",
              "    }\n",
              "</style>\n",
              "<table border=\"1\" class=\"dataframe\">\n",
              "  <thead>\n",
              "    <tr style=\"text-align: right;\">\n",
              "      <th></th>\n",
              "      <th>city</th>\n",
              "      <th>order_id</th>\n",
              "      <th>secondaries</th>\n",
              "      <th>price</th>\n",
              "    </tr>\n",
              "  </thead>\n",
              "  <tbody>\n",
              "    <tr>\n",
              "      <th>0</th>\n",
              "      <td>1000</td>\n",
              "      <td>1008984447</td>\n",
              "      <td>700831000</td>\n",
              "      <td>18.2</td>\n",
              "    </tr>\n",
              "    <tr>\n",
              "      <th>1</th>\n",
              "      <td>1000</td>\n",
              "      <td>1008992198</td>\n",
              "      <td>8700579001</td>\n",
              "      <td>17.5</td>\n",
              "    </tr>\n",
              "    <tr>\n",
              "      <th>2</th>\n",
              "      <td>1000</td>\n",
              "      <td>1009641513</td>\n",
              "      <td>3700017000</td>\n",
              "      <td>98.8</td>\n",
              "    </tr>\n",
              "    <tr>\n",
              "      <th>3</th>\n",
              "      <td>1000</td>\n",
              "      <td>1009650752</td>\n",
              "      <td>3300030000</td>\n",
              "      <td>39.0</td>\n",
              "    </tr>\n",
              "    <tr>\n",
              "      <th>4</th>\n",
              "      <td>1000</td>\n",
              "      <td>1009678287</td>\n",
              "      <td>2100101000</td>\n",
              "      <td>4.0</td>\n",
              "    </tr>\n",
              "  </tbody>\n",
              "</table>\n",
              "</div>"
            ],
            "text/plain": [
              "   city    order_id  secondaries  price\n",
              "0  1000  1008984447    700831000   18.2\n",
              "1  1000  1008992198   8700579001   17.5\n",
              "2  1000  1009641513   3700017000   98.8\n",
              "3  1000  1009650752   3300030000   39.0\n",
              "4  1000  1009678287   2100101000    4.0"
            ]
          },
          "metadata": {},
          "execution_count": 101
        }
      ]
    },
    {
      "cell_type": "code",
      "metadata": {
        "colab": {
          "base_uri": "https://localhost:8080/",
          "height": 203
        },
        "id": "mXnpyzPH0Tm8",
        "outputId": "82fa567d-b9b8-437d-f83e-2118616a4d16"
      },
      "source": [
        "result = anchors.merge(shifted_df, how = 'left', on = 'order_id')\\\n",
        "                      .rename(columns = {'city_x':'city','price_x':'price_anchor', 'price_y':'price_secondary' })\\\n",
        "                      .drop('city_y', axis = 1)\\\n",
        "                      .fillna(0)\\\n",
        "                  \n",
        "result.head()\n"
      ],
      "execution_count": 102,
      "outputs": [
        {
          "output_type": "execute_result",
          "data": {
            "text/html": [
              "<div>\n",
              "<style scoped>\n",
              "    .dataframe tbody tr th:only-of-type {\n",
              "        vertical-align: middle;\n",
              "    }\n",
              "\n",
              "    .dataframe tbody tr th {\n",
              "        vertical-align: top;\n",
              "    }\n",
              "\n",
              "    .dataframe thead th {\n",
              "        text-align: right;\n",
              "    }\n",
              "</style>\n",
              "<table border=\"1\" class=\"dataframe\">\n",
              "  <thead>\n",
              "    <tr style=\"text-align: right;\">\n",
              "      <th></th>\n",
              "      <th>city</th>\n",
              "      <th>order_id</th>\n",
              "      <th>anchor</th>\n",
              "      <th>price_anchor</th>\n",
              "      <th>secondaries</th>\n",
              "      <th>price_secondary</th>\n",
              "    </tr>\n",
              "  </thead>\n",
              "  <tbody>\n",
              "    <tr>\n",
              "      <th>0</th>\n",
              "      <td>1000</td>\n",
              "      <td>1008984447</td>\n",
              "      <td>800134000</td>\n",
              "      <td>19.2</td>\n",
              "      <td>7.008310e+08</td>\n",
              "      <td>18.2</td>\n",
              "    </tr>\n",
              "    <tr>\n",
              "      <th>1</th>\n",
              "      <td>1000</td>\n",
              "      <td>1008992198</td>\n",
              "      <td>8700605001</td>\n",
              "      <td>25.0</td>\n",
              "      <td>8.700579e+09</td>\n",
              "      <td>17.5</td>\n",
              "    </tr>\n",
              "    <tr>\n",
              "      <th>2</th>\n",
              "      <td>1000</td>\n",
              "      <td>1009641513</td>\n",
              "      <td>7200859000</td>\n",
              "      <td>27000.0</td>\n",
              "      <td>3.700017e+09</td>\n",
              "      <td>98.8</td>\n",
              "    </tr>\n",
              "    <tr>\n",
              "      <th>3</th>\n",
              "      <td>1000</td>\n",
              "      <td>1009650752</td>\n",
              "      <td>7200859000</td>\n",
              "      <td>5037.0</td>\n",
              "      <td>3.300030e+09</td>\n",
              "      <td>39.0</td>\n",
              "    </tr>\n",
              "    <tr>\n",
              "      <th>4</th>\n",
              "      <td>1000</td>\n",
              "      <td>1009678287</td>\n",
              "      <td>7200859000</td>\n",
              "      <td>4550.0</td>\n",
              "      <td>2.100101e+09</td>\n",
              "      <td>4.0</td>\n",
              "    </tr>\n",
              "  </tbody>\n",
              "</table>\n",
              "</div>"
            ],
            "text/plain": [
              "   city    order_id      anchor  price_anchor   secondaries  price_secondary\n",
              "0  1000  1008984447   800134000          19.2  7.008310e+08             18.2\n",
              "1  1000  1008992198  8700605001          25.0  8.700579e+09             17.5\n",
              "2  1000  1009641513  7200859000       27000.0  3.700017e+09             98.8\n",
              "3  1000  1009650752  7200859000        5037.0  3.300030e+09             39.0\n",
              "4  1000  1009678287  7200859000        4550.0  2.100101e+09              4.0"
            ]
          },
          "metadata": {},
          "execution_count": 102
        }
      ]
    },
    {
      "cell_type": "code",
      "metadata": {
        "id": "kYRPqo3BAC3M"
      },
      "source": [
        "result['secondaries'] = result['secondaries'].astype(int)"
      ],
      "execution_count": 103,
      "outputs": []
    },
    {
      "cell_type": "code",
      "metadata": {
        "id": "DuuJk-YsipBm",
        "colab": {
          "base_uri": "https://localhost:8080/",
          "height": 357
        },
        "outputId": "cc4d3111-a33c-4d83-a41b-b5a24f7bce1c"
      },
      "source": [
        "result.tail(10)"
      ],
      "execution_count": 104,
      "outputs": [
        {
          "output_type": "execute_result",
          "data": {
            "text/html": [
              "<div>\n",
              "<style scoped>\n",
              "    .dataframe tbody tr th:only-of-type {\n",
              "        vertical-align: middle;\n",
              "    }\n",
              "\n",
              "    .dataframe tbody tr th {\n",
              "        vertical-align: top;\n",
              "    }\n",
              "\n",
              "    .dataframe thead th {\n",
              "        text-align: right;\n",
              "    }\n",
              "</style>\n",
              "<table border=\"1\" class=\"dataframe\">\n",
              "  <thead>\n",
              "    <tr style=\"text-align: right;\">\n",
              "      <th></th>\n",
              "      <th>city</th>\n",
              "      <th>order_id</th>\n",
              "      <th>anchor</th>\n",
              "      <th>price_anchor</th>\n",
              "      <th>secondaries</th>\n",
              "      <th>price_secondary</th>\n",
              "    </tr>\n",
              "  </thead>\n",
              "  <tbody>\n",
              "    <tr>\n",
              "      <th>4782127</th>\n",
              "      <td>1000</td>\n",
              "      <td>2035018892</td>\n",
              "      <td>5900881001</td>\n",
              "      <td>204.00</td>\n",
              "      <td>0</td>\n",
              "      <td>0.00</td>\n",
              "    </tr>\n",
              "    <tr>\n",
              "      <th>4782128</th>\n",
              "      <td>2000</td>\n",
              "      <td>2035018894</td>\n",
              "      <td>4400423001</td>\n",
              "      <td>340.00</td>\n",
              "      <td>0</td>\n",
              "      <td>0.00</td>\n",
              "    </tr>\n",
              "    <tr>\n",
              "      <th>4782129</th>\n",
              "      <td>1000</td>\n",
              "      <td>2035018895</td>\n",
              "      <td>2700760001</td>\n",
              "      <td>447.00</td>\n",
              "      <td>1100286000</td>\n",
              "      <td>35.00</td>\n",
              "    </tr>\n",
              "    <tr>\n",
              "      <th>4782130</th>\n",
              "      <td>1000</td>\n",
              "      <td>2035018895</td>\n",
              "      <td>2700760001</td>\n",
              "      <td>447.00</td>\n",
              "      <td>2700759001</td>\n",
              "      <td>244.00</td>\n",
              "    </tr>\n",
              "    <tr>\n",
              "      <th>4782131</th>\n",
              "      <td>2000</td>\n",
              "      <td>2035018902</td>\n",
              "      <td>5500575000</td>\n",
              "      <td>314.16</td>\n",
              "      <td>0</td>\n",
              "      <td>0.00</td>\n",
              "    </tr>\n",
              "    <tr>\n",
              "      <th>4782132</th>\n",
              "      <td>1000</td>\n",
              "      <td>2035018904</td>\n",
              "      <td>1700973003</td>\n",
              "      <td>250.00</td>\n",
              "      <td>7500686000</td>\n",
              "      <td>17.10</td>\n",
              "    </tr>\n",
              "    <tr>\n",
              "      <th>4782133</th>\n",
              "      <td>1000</td>\n",
              "      <td>2035018904</td>\n",
              "      <td>1700973003</td>\n",
              "      <td>250.00</td>\n",
              "      <td>7700232000</td>\n",
              "      <td>55.80</td>\n",
              "    </tr>\n",
              "    <tr>\n",
              "      <th>4782134</th>\n",
              "      <td>1000</td>\n",
              "      <td>2035018952</td>\n",
              "      <td>1300268000</td>\n",
              "      <td>443.70</td>\n",
              "      <td>0</td>\n",
              "      <td>0.00</td>\n",
              "    </tr>\n",
              "    <tr>\n",
              "      <th>4782135</th>\n",
              "      <td>2000</td>\n",
              "      <td>2035018963</td>\n",
              "      <td>2100828000</td>\n",
              "      <td>514.98</td>\n",
              "      <td>900296001</td>\n",
              "      <td>23.14</td>\n",
              "    </tr>\n",
              "    <tr>\n",
              "      <th>4782136</th>\n",
              "      <td>2000</td>\n",
              "      <td>2035018963</td>\n",
              "      <td>2100828000</td>\n",
              "      <td>514.98</td>\n",
              "      <td>900297001</td>\n",
              "      <td>36.49</td>\n",
              "    </tr>\n",
              "  </tbody>\n",
              "</table>\n",
              "</div>"
            ],
            "text/plain": [
              "         city    order_id  ...  secondaries  price_secondary\n",
              "4782127  1000  2035018892  ...            0             0.00\n",
              "4782128  2000  2035018894  ...            0             0.00\n",
              "4782129  1000  2035018895  ...   1100286000            35.00\n",
              "4782130  1000  2035018895  ...   2700759001           244.00\n",
              "4782131  2000  2035018902  ...            0             0.00\n",
              "4782132  1000  2035018904  ...   7500686000            17.10\n",
              "4782133  1000  2035018904  ...   7700232000            55.80\n",
              "4782134  1000  2035018952  ...            0             0.00\n",
              "4782135  2000  2035018963  ...    900296001            23.14\n",
              "4782136  2000  2035018963  ...    900297001            36.49\n",
              "\n",
              "[10 rows x 6 columns]"
            ]
          },
          "metadata": {},
          "execution_count": 104
        }
      ]
    },
    {
      "cell_type": "code",
      "metadata": {
        "colab": {
          "base_uri": "https://localhost:8080/",
          "height": 203
        },
        "id": "gdwm6zE0_mut",
        "outputId": "86db3722-d818-4064-d94a-599d274e359f"
      },
      "source": [
        "general_set = result \n",
        "general_set.head()"
      ],
      "execution_count": 105,
      "outputs": [
        {
          "output_type": "execute_result",
          "data": {
            "text/html": [
              "<div>\n",
              "<style scoped>\n",
              "    .dataframe tbody tr th:only-of-type {\n",
              "        vertical-align: middle;\n",
              "    }\n",
              "\n",
              "    .dataframe tbody tr th {\n",
              "        vertical-align: top;\n",
              "    }\n",
              "\n",
              "    .dataframe thead th {\n",
              "        text-align: right;\n",
              "    }\n",
              "</style>\n",
              "<table border=\"1\" class=\"dataframe\">\n",
              "  <thead>\n",
              "    <tr style=\"text-align: right;\">\n",
              "      <th></th>\n",
              "      <th>city</th>\n",
              "      <th>order_id</th>\n",
              "      <th>anchor</th>\n",
              "      <th>price_anchor</th>\n",
              "      <th>secondaries</th>\n",
              "      <th>price_secondary</th>\n",
              "    </tr>\n",
              "  </thead>\n",
              "  <tbody>\n",
              "    <tr>\n",
              "      <th>0</th>\n",
              "      <td>1000</td>\n",
              "      <td>1008984447</td>\n",
              "      <td>800134000</td>\n",
              "      <td>19.2</td>\n",
              "      <td>700831000</td>\n",
              "      <td>18.2</td>\n",
              "    </tr>\n",
              "    <tr>\n",
              "      <th>1</th>\n",
              "      <td>1000</td>\n",
              "      <td>1008992198</td>\n",
              "      <td>8700605001</td>\n",
              "      <td>25.0</td>\n",
              "      <td>8700579001</td>\n",
              "      <td>17.5</td>\n",
              "    </tr>\n",
              "    <tr>\n",
              "      <th>2</th>\n",
              "      <td>1000</td>\n",
              "      <td>1009641513</td>\n",
              "      <td>7200859000</td>\n",
              "      <td>27000.0</td>\n",
              "      <td>3700017000</td>\n",
              "      <td>98.8</td>\n",
              "    </tr>\n",
              "    <tr>\n",
              "      <th>3</th>\n",
              "      <td>1000</td>\n",
              "      <td>1009650752</td>\n",
              "      <td>7200859000</td>\n",
              "      <td>5037.0</td>\n",
              "      <td>3300030000</td>\n",
              "      <td>39.0</td>\n",
              "    </tr>\n",
              "    <tr>\n",
              "      <th>4</th>\n",
              "      <td>1000</td>\n",
              "      <td>1009678287</td>\n",
              "      <td>7200859000</td>\n",
              "      <td>4550.0</td>\n",
              "      <td>2100101000</td>\n",
              "      <td>4.0</td>\n",
              "    </tr>\n",
              "  </tbody>\n",
              "</table>\n",
              "</div>"
            ],
            "text/plain": [
              "   city    order_id      anchor  price_anchor  secondaries  price_secondary\n",
              "0  1000  1008984447   800134000          19.2    700831000             18.2\n",
              "1  1000  1008992198  8700605001          25.0   8700579001             17.5\n",
              "2  1000  1009641513  7200859000       27000.0   3700017000             98.8\n",
              "3  1000  1009650752  7200859000        5037.0   3300030000             39.0\n",
              "4  1000  1009678287  7200859000        4550.0   2100101000              4.0"
            ]
          },
          "metadata": {},
          "execution_count": 105
        }
      ]
    },
    {
      "cell_type": "code",
      "metadata": {
        "colab": {
          "base_uri": "https://localhost:8080/",
          "height": 203
        },
        "id": "tWrX8u2SDIFG",
        "outputId": "48684ab5-a92f-4d68-9456-0e78f8d82076"
      },
      "source": [
        "city_1000  = result[result.city == 1000] #for city 1000\n",
        "city_1000.head()"
      ],
      "execution_count": 106,
      "outputs": [
        {
          "output_type": "execute_result",
          "data": {
            "text/html": [
              "<div>\n",
              "<style scoped>\n",
              "    .dataframe tbody tr th:only-of-type {\n",
              "        vertical-align: middle;\n",
              "    }\n",
              "\n",
              "    .dataframe tbody tr th {\n",
              "        vertical-align: top;\n",
              "    }\n",
              "\n",
              "    .dataframe thead th {\n",
              "        text-align: right;\n",
              "    }\n",
              "</style>\n",
              "<table border=\"1\" class=\"dataframe\">\n",
              "  <thead>\n",
              "    <tr style=\"text-align: right;\">\n",
              "      <th></th>\n",
              "      <th>city</th>\n",
              "      <th>order_id</th>\n",
              "      <th>anchor</th>\n",
              "      <th>price_anchor</th>\n",
              "      <th>secondaries</th>\n",
              "      <th>price_secondary</th>\n",
              "    </tr>\n",
              "  </thead>\n",
              "  <tbody>\n",
              "    <tr>\n",
              "      <th>0</th>\n",
              "      <td>1000</td>\n",
              "      <td>1008984447</td>\n",
              "      <td>800134000</td>\n",
              "      <td>19.2</td>\n",
              "      <td>700831000</td>\n",
              "      <td>18.2</td>\n",
              "    </tr>\n",
              "    <tr>\n",
              "      <th>1</th>\n",
              "      <td>1000</td>\n",
              "      <td>1008992198</td>\n",
              "      <td>8700605001</td>\n",
              "      <td>25.0</td>\n",
              "      <td>8700579001</td>\n",
              "      <td>17.5</td>\n",
              "    </tr>\n",
              "    <tr>\n",
              "      <th>2</th>\n",
              "      <td>1000</td>\n",
              "      <td>1009641513</td>\n",
              "      <td>7200859000</td>\n",
              "      <td>27000.0</td>\n",
              "      <td>3700017000</td>\n",
              "      <td>98.8</td>\n",
              "    </tr>\n",
              "    <tr>\n",
              "      <th>3</th>\n",
              "      <td>1000</td>\n",
              "      <td>1009650752</td>\n",
              "      <td>7200859000</td>\n",
              "      <td>5037.0</td>\n",
              "      <td>3300030000</td>\n",
              "      <td>39.0</td>\n",
              "    </tr>\n",
              "    <tr>\n",
              "      <th>4</th>\n",
              "      <td>1000</td>\n",
              "      <td>1009678287</td>\n",
              "      <td>7200859000</td>\n",
              "      <td>4550.0</td>\n",
              "      <td>2100101000</td>\n",
              "      <td>4.0</td>\n",
              "    </tr>\n",
              "  </tbody>\n",
              "</table>\n",
              "</div>"
            ],
            "text/plain": [
              "   city    order_id      anchor  price_anchor  secondaries  price_secondary\n",
              "0  1000  1008984447   800134000          19.2    700831000             18.2\n",
              "1  1000  1008992198  8700605001          25.0   8700579001             17.5\n",
              "2  1000  1009641513  7200859000       27000.0   3700017000             98.8\n",
              "3  1000  1009650752  7200859000        5037.0   3300030000             39.0\n",
              "4  1000  1009678287  7200859000        4550.0   2100101000              4.0"
            ]
          },
          "metadata": {},
          "execution_count": 106
        }
      ]
    },
    {
      "cell_type": "code",
      "metadata": {
        "id": "CIuq--pgDrlU",
        "colab": {
          "base_uri": "https://localhost:8080/",
          "height": 295
        },
        "outputId": "90281690-d792-4bb8-bcca-3949beedd43e"
      },
      "source": [
        "general_set.describe()"
      ],
      "execution_count": 107,
      "outputs": [
        {
          "output_type": "execute_result",
          "data": {
            "text/html": [
              "<div>\n",
              "<style scoped>\n",
              "    .dataframe tbody tr th:only-of-type {\n",
              "        vertical-align: middle;\n",
              "    }\n",
              "\n",
              "    .dataframe tbody tr th {\n",
              "        vertical-align: top;\n",
              "    }\n",
              "\n",
              "    .dataframe thead th {\n",
              "        text-align: right;\n",
              "    }\n",
              "</style>\n",
              "<table border=\"1\" class=\"dataframe\">\n",
              "  <thead>\n",
              "    <tr style=\"text-align: right;\">\n",
              "      <th></th>\n",
              "      <th>city</th>\n",
              "      <th>order_id</th>\n",
              "      <th>anchor</th>\n",
              "      <th>price_anchor</th>\n",
              "      <th>secondaries</th>\n",
              "      <th>price_secondary</th>\n",
              "    </tr>\n",
              "  </thead>\n",
              "  <tbody>\n",
              "    <tr>\n",
              "      <th>count</th>\n",
              "      <td>4.782137e+06</td>\n",
              "      <td>4.782137e+06</td>\n",
              "      <td>4.782137e+06</td>\n",
              "      <td>4.782137e+06</td>\n",
              "      <td>4.782137e+06</td>\n",
              "      <td>4.782137e+06</td>\n",
              "    </tr>\n",
              "    <tr>\n",
              "      <th>mean</th>\n",
              "      <td>1.630490e+03</td>\n",
              "      <td>2.033164e+09</td>\n",
              "      <td>3.530532e+09</td>\n",
              "      <td>7.121072e+02</td>\n",
              "      <td>2.706496e+09</td>\n",
              "      <td>1.065366e+02</td>\n",
              "    </tr>\n",
              "    <tr>\n",
              "      <th>std</th>\n",
              "      <td>9.690316e+02</td>\n",
              "      <td>1.681343e+07</td>\n",
              "      <td>2.499731e+09</td>\n",
              "      <td>2.179224e+03</td>\n",
              "      <td>2.536757e+09</td>\n",
              "      <td>2.862383e+02</td>\n",
              "    </tr>\n",
              "    <tr>\n",
              "      <th>min</th>\n",
              "      <td>1.000000e+03</td>\n",
              "      <td>1.008984e+09</td>\n",
              "      <td>2.300000e+04</td>\n",
              "      <td>8.000000e-03</td>\n",
              "      <td>0.000000e+00</td>\n",
              "      <td>0.000000e+00</td>\n",
              "    </tr>\n",
              "    <tr>\n",
              "      <th>25%</th>\n",
              "      <td>1.000000e+03</td>\n",
              "      <td>2.032634e+09</td>\n",
              "      <td>1.100030e+09</td>\n",
              "      <td>1.250000e+02</td>\n",
              "      <td>2.000480e+08</td>\n",
              "      <td>3.500000e+00</td>\n",
              "    </tr>\n",
              "    <tr>\n",
              "      <th>50%</th>\n",
              "      <td>1.000000e+03</td>\n",
              "      <td>2.033452e+09</td>\n",
              "      <td>3.300190e+09</td>\n",
              "      <td>2.700000e+02</td>\n",
              "      <td>2.300594e+09</td>\n",
              "      <td>4.000000e+01</td>\n",
              "    </tr>\n",
              "    <tr>\n",
              "      <th>75%</th>\n",
              "      <td>2.000000e+03</td>\n",
              "      <td>2.034247e+09</td>\n",
              "      <td>5.600019e+09</td>\n",
              "      <td>6.000000e+02</td>\n",
              "      <td>4.900087e+09</td>\n",
              "      <td>1.135200e+02</td>\n",
              "    </tr>\n",
              "    <tr>\n",
              "      <th>max</th>\n",
              "      <td>7.000000e+03</td>\n",
              "      <td>2.035019e+09</td>\n",
              "      <td>9.900999e+09</td>\n",
              "      <td>1.600000e+05</td>\n",
              "      <td>9.900999e+09</td>\n",
              "      <td>1.062500e+05</td>\n",
              "    </tr>\n",
              "  </tbody>\n",
              "</table>\n",
              "</div>"
            ],
            "text/plain": [
              "               city      order_id  ...   secondaries  price_secondary\n",
              "count  4.782137e+06  4.782137e+06  ...  4.782137e+06     4.782137e+06\n",
              "mean   1.630490e+03  2.033164e+09  ...  2.706496e+09     1.065366e+02\n",
              "std    9.690316e+02  1.681343e+07  ...  2.536757e+09     2.862383e+02\n",
              "min    1.000000e+03  1.008984e+09  ...  0.000000e+00     0.000000e+00\n",
              "25%    1.000000e+03  2.032634e+09  ...  2.000480e+08     3.500000e+00\n",
              "50%    1.000000e+03  2.033452e+09  ...  2.300594e+09     4.000000e+01\n",
              "75%    2.000000e+03  2.034247e+09  ...  4.900087e+09     1.135200e+02\n",
              "max    7.000000e+03  2.035019e+09  ...  9.900999e+09     1.062500e+05\n",
              "\n",
              "[8 rows x 6 columns]"
            ]
          },
          "metadata": {},
          "execution_count": 107
        }
      ]
    },
    {
      "cell_type": "code",
      "metadata": {
        "id": "00_LMcB3Dth2"
      },
      "source": [
        ""
      ],
      "execution_count": 107,
      "outputs": []
    }
  ]
}